{
 "cells": [
  {
   "cell_type": "markdown",
   "metadata": {},
   "source": [
    "## Imporing the data "
   ]
  },
  {
   "cell_type": "code",
   "execution_count": 1,
   "metadata": {},
   "outputs": [],
   "source": [
    "import pandas as pd"
   ]
  },
  {
   "cell_type": "code",
   "execution_count": 2,
   "metadata": {},
   "outputs": [],
   "source": [
    "df_vente=pd.read_csv(\"./Data/ventes.csv\")"
   ]
  },
  {
   "cell_type": "code",
   "execution_count": 3,
   "metadata": {},
   "outputs": [
    {
     "data": {
      "text/html": [
       "<div>\n",
       "<style scoped>\n",
       "    .dataframe tbody tr th:only-of-type {\n",
       "        vertical-align: middle;\n",
       "    }\n",
       "\n",
       "    .dataframe tbody tr th {\n",
       "        vertical-align: top;\n",
       "    }\n",
       "\n",
       "    .dataframe thead th {\n",
       "        text-align: right;\n",
       "    }\n",
       "</style>\n",
       "<table border=\"1\" class=\"dataframe\">\n",
       "  <thead>\n",
       "    <tr style=\"text-align: right;\">\n",
       "      <th></th>\n",
       "      <th>id_prod</th>\n",
       "      <th>date</th>\n",
       "      <th>session_id</th>\n",
       "      <th>client_id</th>\n",
       "      <th>quantity_sold</th>\n",
       "    </tr>\n",
       "  </thead>\n",
       "  <tbody>\n",
       "    <tr>\n",
       "      <th>0</th>\n",
       "      <td>0_1483</td>\n",
       "      <td>2021-04-10 18:37:28.723910</td>\n",
       "      <td>s_18746</td>\n",
       "      <td>c_4450</td>\n",
       "      <td>5</td>\n",
       "    </tr>\n",
       "    <tr>\n",
       "      <th>1</th>\n",
       "      <td>2_226</td>\n",
       "      <td>2022-02-03 01:55:53.276402</td>\n",
       "      <td>s_159142</td>\n",
       "      <td>c_277</td>\n",
       "      <td>6</td>\n",
       "    </tr>\n",
       "    <tr>\n",
       "      <th>2</th>\n",
       "      <td>1_374</td>\n",
       "      <td>2021-09-23 15:13:46.938559</td>\n",
       "      <td>s_94290</td>\n",
       "      <td>c_4270</td>\n",
       "      <td>3</td>\n",
       "    </tr>\n",
       "    <tr>\n",
       "      <th>3</th>\n",
       "      <td>0_2186</td>\n",
       "      <td>2021-10-17 03:27:18.783634</td>\n",
       "      <td>s_105936</td>\n",
       "      <td>c_4597</td>\n",
       "      <td>8</td>\n",
       "    </tr>\n",
       "    <tr>\n",
       "      <th>4</th>\n",
       "      <td>0_1351</td>\n",
       "      <td>2021-07-17 20:34:25.800563</td>\n",
       "      <td>s_63642</td>\n",
       "      <td>c_1242</td>\n",
       "      <td>2</td>\n",
       "    </tr>\n",
       "    <tr>\n",
       "      <th>...</th>\n",
       "      <td>...</td>\n",
       "      <td>...</td>\n",
       "      <td>...</td>\n",
       "      <td>...</td>\n",
       "      <td>...</td>\n",
       "    </tr>\n",
       "    <tr>\n",
       "      <th>337011</th>\n",
       "      <td>1_671</td>\n",
       "      <td>2021-05-28 12:35:46.214839</td>\n",
       "      <td>s_40720</td>\n",
       "      <td>c_3454</td>\n",
       "      <td>1</td>\n",
       "    </tr>\n",
       "    <tr>\n",
       "      <th>337012</th>\n",
       "      <td>0_759</td>\n",
       "      <td>2021-06-19 00:19:23.917703</td>\n",
       "      <td>s_50568</td>\n",
       "      <td>c_6268</td>\n",
       "      <td>10</td>\n",
       "    </tr>\n",
       "    <tr>\n",
       "      <th>337013</th>\n",
       "      <td>0_1256</td>\n",
       "      <td>2021-03-16 17:31:59.442007</td>\n",
       "      <td>s_7219</td>\n",
       "      <td>c_4137</td>\n",
       "      <td>7</td>\n",
       "    </tr>\n",
       "    <tr>\n",
       "      <th>337014</th>\n",
       "      <td>2_227</td>\n",
       "      <td>2021-10-30 16:50:15.997750</td>\n",
       "      <td>s_112349</td>\n",
       "      <td>c_5</td>\n",
       "      <td>8</td>\n",
       "    </tr>\n",
       "    <tr>\n",
       "      <th>337015</th>\n",
       "      <td>0_1417</td>\n",
       "      <td>2021-06-26 14:38:19.732946</td>\n",
       "      <td>s_54117</td>\n",
       "      <td>c_6714</td>\n",
       "      <td>3</td>\n",
       "    </tr>\n",
       "  </tbody>\n",
       "</table>\n",
       "<p>337016 rows × 5 columns</p>\n",
       "</div>"
      ],
      "text/plain": [
       "       id_prod                        date session_id client_id  quantity_sold\n",
       "0       0_1483  2021-04-10 18:37:28.723910    s_18746    c_4450              5\n",
       "1        2_226  2022-02-03 01:55:53.276402   s_159142     c_277              6\n",
       "2        1_374  2021-09-23 15:13:46.938559    s_94290    c_4270              3\n",
       "3       0_2186  2021-10-17 03:27:18.783634   s_105936    c_4597              8\n",
       "4       0_1351  2021-07-17 20:34:25.800563    s_63642    c_1242              2\n",
       "...        ...                         ...        ...       ...            ...\n",
       "337011   1_671  2021-05-28 12:35:46.214839    s_40720    c_3454              1\n",
       "337012   0_759  2021-06-19 00:19:23.917703    s_50568    c_6268             10\n",
       "337013  0_1256  2021-03-16 17:31:59.442007     s_7219    c_4137              7\n",
       "337014   2_227  2021-10-30 16:50:15.997750   s_112349       c_5              8\n",
       "337015  0_1417  2021-06-26 14:38:19.732946    s_54117    c_6714              3\n",
       "\n",
       "[337016 rows x 5 columns]"
      ]
     },
     "execution_count": 3,
     "metadata": {},
     "output_type": "execute_result"
    }
   ],
   "source": [
    "df_vente"
   ]
  },
  {
   "cell_type": "code",
   "execution_count": 4,
   "metadata": {},
   "outputs": [
    {
     "data": {
      "text/html": [
       "<div>\n",
       "<style scoped>\n",
       "    .dataframe tbody tr th:only-of-type {\n",
       "        vertical-align: middle;\n",
       "    }\n",
       "\n",
       "    .dataframe tbody tr th {\n",
       "        vertical-align: top;\n",
       "    }\n",
       "\n",
       "    .dataframe thead th {\n",
       "        text-align: right;\n",
       "    }\n",
       "</style>\n",
       "<table border=\"1\" class=\"dataframe\">\n",
       "  <thead>\n",
       "    <tr style=\"text-align: right;\">\n",
       "      <th></th>\n",
       "      <th>product_id</th>\n",
       "      <th>category</th>\n",
       "      <th>sub_category</th>\n",
       "      <th>price</th>\n",
       "      <th>stock_quantity</th>\n",
       "    </tr>\n",
       "  </thead>\n",
       "  <tbody>\n",
       "    <tr>\n",
       "      <th>0</th>\n",
       "      <td>0_1421</td>\n",
       "      <td>Vêtements</td>\n",
       "      <td>T-shirts</td>\n",
       "      <td>19.99</td>\n",
       "      <td>39</td>\n",
       "    </tr>\n",
       "    <tr>\n",
       "      <th>1</th>\n",
       "      <td>0_1368</td>\n",
       "      <td>Vêtements</td>\n",
       "      <td>T-shirts</td>\n",
       "      <td>5.13</td>\n",
       "      <td>76</td>\n",
       "    </tr>\n",
       "    <tr>\n",
       "      <th>2</th>\n",
       "      <td>0_731</td>\n",
       "      <td>Vêtements</td>\n",
       "      <td>T-shirts</td>\n",
       "      <td>17.99</td>\n",
       "      <td>2</td>\n",
       "    </tr>\n",
       "    <tr>\n",
       "      <th>3</th>\n",
       "      <td>1_587</td>\n",
       "      <td>Accessoires</td>\n",
       "      <td>Sacs à main</td>\n",
       "      <td>4.99</td>\n",
       "      <td>55</td>\n",
       "    </tr>\n",
       "    <tr>\n",
       "      <th>4</th>\n",
       "      <td>0_1507</td>\n",
       "      <td>Vêtements</td>\n",
       "      <td>T-shirts</td>\n",
       "      <td>3.99</td>\n",
       "      <td>81</td>\n",
       "    </tr>\n",
       "    <tr>\n",
       "      <th>...</th>\n",
       "      <td>...</td>\n",
       "      <td>...</td>\n",
       "      <td>...</td>\n",
       "      <td>...</td>\n",
       "      <td>...</td>\n",
       "    </tr>\n",
       "    <tr>\n",
       "      <th>3282</th>\n",
       "      <td>2_23</td>\n",
       "      <td>Montres</td>\n",
       "      <td>Montres connectées</td>\n",
       "      <td>115.99</td>\n",
       "      <td>38</td>\n",
       "    </tr>\n",
       "    <tr>\n",
       "      <th>3283</th>\n",
       "      <td>0_146</td>\n",
       "      <td>Vêtements</td>\n",
       "      <td>T-shirts</td>\n",
       "      <td>17.14</td>\n",
       "      <td>55</td>\n",
       "    </tr>\n",
       "    <tr>\n",
       "      <th>3284</th>\n",
       "      <td>0_802</td>\n",
       "      <td>Vêtements</td>\n",
       "      <td>T-shirts</td>\n",
       "      <td>11.22</td>\n",
       "      <td>64</td>\n",
       "    </tr>\n",
       "    <tr>\n",
       "      <th>3285</th>\n",
       "      <td>1_140</td>\n",
       "      <td>Accessoires</td>\n",
       "      <td>Sacs à main</td>\n",
       "      <td>38.56</td>\n",
       "      <td>1</td>\n",
       "    </tr>\n",
       "    <tr>\n",
       "      <th>3286</th>\n",
       "      <td>0_1920</td>\n",
       "      <td>Vêtements</td>\n",
       "      <td>T-shirts</td>\n",
       "      <td>25.16</td>\n",
       "      <td>16</td>\n",
       "    </tr>\n",
       "  </tbody>\n",
       "</table>\n",
       "<p>3287 rows × 5 columns</p>\n",
       "</div>"
      ],
      "text/plain": [
       "     product_id     category        sub_category   price  stock_quantity\n",
       "0        0_1421    Vêtements            T-shirts   19.99              39\n",
       "1        0_1368    Vêtements            T-shirts    5.13              76\n",
       "2         0_731    Vêtements            T-shirts   17.99               2\n",
       "3         1_587  Accessoires         Sacs à main    4.99              55\n",
       "4        0_1507    Vêtements            T-shirts    3.99              81\n",
       "...         ...          ...                 ...     ...             ...\n",
       "3282       2_23      Montres  Montres connectées  115.99              38\n",
       "3283      0_146    Vêtements            T-shirts   17.14              55\n",
       "3284      0_802    Vêtements            T-shirts   11.22              64\n",
       "3285      1_140  Accessoires         Sacs à main   38.56               1\n",
       "3286     0_1920    Vêtements            T-shirts   25.16              16\n",
       "\n",
       "[3287 rows x 5 columns]"
      ]
     },
     "execution_count": 4,
     "metadata": {},
     "output_type": "execute_result"
    }
   ],
   "source": [
    "df_produits_sous_categorie=pd.read_csv(\"./Data/produits_sous-categorie.csv\")\n",
    "df_produits_sous_categorie"
   ]
  },
  {
   "cell_type": "code",
   "execution_count": 5,
   "metadata": {},
   "outputs": [
    {
     "data": {
      "text/html": [
       "<div>\n",
       "<style scoped>\n",
       "    .dataframe tbody tr th:only-of-type {\n",
       "        vertical-align: middle;\n",
       "    }\n",
       "\n",
       "    .dataframe tbody tr th {\n",
       "        vertical-align: top;\n",
       "    }\n",
       "\n",
       "    .dataframe thead th {\n",
       "        text-align: right;\n",
       "    }\n",
       "</style>\n",
       "<table border=\"1\" class=\"dataframe\">\n",
       "  <thead>\n",
       "    <tr style=\"text-align: right;\">\n",
       "      <th></th>\n",
       "      <th>client_id</th>\n",
       "      <th>sex</th>\n",
       "      <th>birth</th>\n",
       "    </tr>\n",
       "  </thead>\n",
       "  <tbody>\n",
       "    <tr>\n",
       "      <th>0</th>\n",
       "      <td>c_4410</td>\n",
       "      <td>f</td>\n",
       "      <td>1967</td>\n",
       "    </tr>\n",
       "    <tr>\n",
       "      <th>1</th>\n",
       "      <td>c_7839</td>\n",
       "      <td>f</td>\n",
       "      <td>1975</td>\n",
       "    </tr>\n",
       "    <tr>\n",
       "      <th>2</th>\n",
       "      <td>c_1699</td>\n",
       "      <td>f</td>\n",
       "      <td>1984</td>\n",
       "    </tr>\n",
       "    <tr>\n",
       "      <th>3</th>\n",
       "      <td>c_5961</td>\n",
       "      <td>f</td>\n",
       "      <td>1962</td>\n",
       "    </tr>\n",
       "    <tr>\n",
       "      <th>4</th>\n",
       "      <td>c_5320</td>\n",
       "      <td>m</td>\n",
       "      <td>1943</td>\n",
       "    </tr>\n",
       "    <tr>\n",
       "      <th>...</th>\n",
       "      <td>...</td>\n",
       "      <td>...</td>\n",
       "      <td>...</td>\n",
       "    </tr>\n",
       "    <tr>\n",
       "      <th>8618</th>\n",
       "      <td>c_7920</td>\n",
       "      <td>m</td>\n",
       "      <td>1956</td>\n",
       "    </tr>\n",
       "    <tr>\n",
       "      <th>8619</th>\n",
       "      <td>c_7403</td>\n",
       "      <td>f</td>\n",
       "      <td>1970</td>\n",
       "    </tr>\n",
       "    <tr>\n",
       "      <th>8620</th>\n",
       "      <td>c_5119</td>\n",
       "      <td>m</td>\n",
       "      <td>1974</td>\n",
       "    </tr>\n",
       "    <tr>\n",
       "      <th>8621</th>\n",
       "      <td>c_5643</td>\n",
       "      <td>f</td>\n",
       "      <td>1968</td>\n",
       "    </tr>\n",
       "    <tr>\n",
       "      <th>8622</th>\n",
       "      <td>c_84</td>\n",
       "      <td>f</td>\n",
       "      <td>1982</td>\n",
       "    </tr>\n",
       "  </tbody>\n",
       "</table>\n",
       "<p>8623 rows × 3 columns</p>\n",
       "</div>"
      ],
      "text/plain": [
       "     client_id sex  birth\n",
       "0       c_4410   f   1967\n",
       "1       c_7839   f   1975\n",
       "2       c_1699   f   1984\n",
       "3       c_5961   f   1962\n",
       "4       c_5320   m   1943\n",
       "...        ...  ..    ...\n",
       "8618    c_7920   m   1956\n",
       "8619    c_7403   f   1970\n",
       "8620    c_5119   m   1974\n",
       "8621    c_5643   f   1968\n",
       "8622      c_84   f   1982\n",
       "\n",
       "[8623 rows x 3 columns]"
      ]
     },
     "execution_count": 5,
     "metadata": {},
     "output_type": "execute_result"
    }
   ],
   "source": [
    "df_clients=pd.read_csv(\"./Data/clients.csv\", delimiter=\";\")\n",
    "df_clients"
   ]
  },
  {
   "cell_type": "markdown",
   "metadata": {},
   "source": [
    "## check the data types for each dataframe and search for Nan values"
   ]
  },
  {
   "cell_type": "code",
   "execution_count": 6,
   "metadata": {},
   "outputs": [
    {
     "data": {
      "text/plain": [
       "client_id    object\n",
       "sex          object\n",
       "birth         int64\n",
       "dtype: object"
      ]
     },
     "execution_count": 6,
     "metadata": {},
     "output_type": "execute_result"
    }
   ],
   "source": [
    "df_clients.dtypes"
   ]
  },
  {
   "cell_type": "code",
   "execution_count": 7,
   "metadata": {},
   "outputs": [
    {
     "data": {
      "text/plain": [
       "id_prod          object\n",
       "date             object\n",
       "session_id       object\n",
       "client_id        object\n",
       "quantity_sold     int64\n",
       "dtype: object"
      ]
     },
     "execution_count": 7,
     "metadata": {},
     "output_type": "execute_result"
    }
   ],
   "source": [
    "df_vente.dtypes"
   ]
  },
  {
   "cell_type": "code",
   "execution_count": 8,
   "metadata": {},
   "outputs": [
    {
     "data": {
      "text/plain": [
       "id_prod          0\n",
       "date             0\n",
       "session_id       0\n",
       "client_id        0\n",
       "quantity_sold    0\n",
       "dtype: int64"
      ]
     },
     "execution_count": 8,
     "metadata": {},
     "output_type": "execute_result"
    }
   ],
   "source": [
    "## check the nan values\n",
    "df_vente.isna().sum()"
   ]
  },
  {
   "cell_type": "code",
   "execution_count": 9,
   "metadata": {},
   "outputs": [
    {
     "data": {
      "text/plain": [
       "client_id    0\n",
       "sex          0\n",
       "birth        0\n",
       "dtype: int64"
      ]
     },
     "execution_count": 9,
     "metadata": {},
     "output_type": "execute_result"
    }
   ],
   "source": [
    "## check the nan values\n",
    "df_clients.isna().sum()"
   ]
  },
  {
   "cell_type": "code",
   "execution_count": 10,
   "metadata": {},
   "outputs": [
    {
     "data": {
      "text/plain": [
       "product_id        0\n",
       "category          0\n",
       "sub_category      0\n",
       "price             0\n",
       "stock_quantity    0\n",
       "dtype: int64"
      ]
     },
     "execution_count": 10,
     "metadata": {},
     "output_type": "execute_result"
    }
   ],
   "source": [
    "## check the nan values\n",
    "\n",
    "df_produits_sous_categorie.isna().sum()"
   ]
  },
  {
   "cell_type": "code",
   "execution_count": 11,
   "metadata": {},
   "outputs": [
    {
     "name": "stdout",
     "output_type": "stream",
     "text": [
      "Error converting column 'date' to datetime in ventes_df. Found type: object.\n"
     ]
    },
    {
     "data": {
      "text/html": [
       "<div>\n",
       "<style scoped>\n",
       "    .dataframe tbody tr th:only-of-type {\n",
       "        vertical-align: middle;\n",
       "    }\n",
       "\n",
       "    .dataframe tbody tr th {\n",
       "        vertical-align: top;\n",
       "    }\n",
       "\n",
       "    .dataframe thead th {\n",
       "        text-align: right;\n",
       "    }\n",
       "</style>\n",
       "<table border=\"1\" class=\"dataframe\">\n",
       "  <thead>\n",
       "    <tr style=\"text-align: right;\">\n",
       "      <th></th>\n",
       "      <th>id_prod</th>\n",
       "      <th>date</th>\n",
       "      <th>session_id</th>\n",
       "      <th>client_id</th>\n",
       "      <th>quantity_sold</th>\n",
       "    </tr>\n",
       "  </thead>\n",
       "  <tbody>\n",
       "    <tr>\n",
       "      <th>1431</th>\n",
       "      <td>T_0</td>\n",
       "      <td>test_2021-03-01 02:30:02.237420</td>\n",
       "      <td>s_0</td>\n",
       "      <td>ct_1</td>\n",
       "      <td>3</td>\n",
       "    </tr>\n",
       "    <tr>\n",
       "      <th>2365</th>\n",
       "      <td>T_0</td>\n",
       "      <td>test_2021-03-01 02:30:02.237446</td>\n",
       "      <td>s_0</td>\n",
       "      <td>ct_1</td>\n",
       "      <td>1</td>\n",
       "    </tr>\n",
       "    <tr>\n",
       "      <th>2895</th>\n",
       "      <td>T_0</td>\n",
       "      <td>test_2021-03-01 02:30:02.237414</td>\n",
       "      <td>s_0</td>\n",
       "      <td>ct_1</td>\n",
       "      <td>9</td>\n",
       "    </tr>\n",
       "    <tr>\n",
       "      <th>5955</th>\n",
       "      <td>T_0</td>\n",
       "      <td>test_2021-03-01 02:30:02.237441</td>\n",
       "      <td>s_0</td>\n",
       "      <td>ct_0</td>\n",
       "      <td>3</td>\n",
       "    </tr>\n",
       "    <tr>\n",
       "      <th>7283</th>\n",
       "      <td>T_0</td>\n",
       "      <td>test_2021-03-01 02:30:02.237434</td>\n",
       "      <td>s_0</td>\n",
       "      <td>ct_1</td>\n",
       "      <td>2</td>\n",
       "    </tr>\n",
       "    <tr>\n",
       "      <th>...</th>\n",
       "      <td>...</td>\n",
       "      <td>...</td>\n",
       "      <td>...</td>\n",
       "      <td>...</td>\n",
       "      <td>...</td>\n",
       "    </tr>\n",
       "    <tr>\n",
       "      <th>332594</th>\n",
       "      <td>T_0</td>\n",
       "      <td>test_2021-03-01 02:30:02.237445</td>\n",
       "      <td>s_0</td>\n",
       "      <td>ct_0</td>\n",
       "      <td>2</td>\n",
       "    </tr>\n",
       "    <tr>\n",
       "      <th>332705</th>\n",
       "      <td>T_0</td>\n",
       "      <td>test_2021-03-01 02:30:02.237423</td>\n",
       "      <td>s_0</td>\n",
       "      <td>ct_1</td>\n",
       "      <td>4</td>\n",
       "    </tr>\n",
       "    <tr>\n",
       "      <th>332730</th>\n",
       "      <td>T_0</td>\n",
       "      <td>test_2021-03-01 02:30:02.237421</td>\n",
       "      <td>s_0</td>\n",
       "      <td>ct_1</td>\n",
       "      <td>1</td>\n",
       "    </tr>\n",
       "    <tr>\n",
       "      <th>333442</th>\n",
       "      <td>T_0</td>\n",
       "      <td>test_2021-03-01 02:30:02.237431</td>\n",
       "      <td>s_0</td>\n",
       "      <td>ct_1</td>\n",
       "      <td>4</td>\n",
       "    </tr>\n",
       "    <tr>\n",
       "      <th>335279</th>\n",
       "      <td>T_0</td>\n",
       "      <td>test_2021-03-01 02:30:02.237430</td>\n",
       "      <td>s_0</td>\n",
       "      <td>ct_0</td>\n",
       "      <td>8</td>\n",
       "    </tr>\n",
       "  </tbody>\n",
       "</table>\n",
       "<p>200 rows × 5 columns</p>\n",
       "</div>"
      ],
      "text/plain": [
       "       id_prod                             date session_id client_id  \\\n",
       "1431       T_0  test_2021-03-01 02:30:02.237420        s_0      ct_1   \n",
       "2365       T_0  test_2021-03-01 02:30:02.237446        s_0      ct_1   \n",
       "2895       T_0  test_2021-03-01 02:30:02.237414        s_0      ct_1   \n",
       "5955       T_0  test_2021-03-01 02:30:02.237441        s_0      ct_0   \n",
       "7283       T_0  test_2021-03-01 02:30:02.237434        s_0      ct_1   \n",
       "...        ...                              ...        ...       ...   \n",
       "332594     T_0  test_2021-03-01 02:30:02.237445        s_0      ct_0   \n",
       "332705     T_0  test_2021-03-01 02:30:02.237423        s_0      ct_1   \n",
       "332730     T_0  test_2021-03-01 02:30:02.237421        s_0      ct_1   \n",
       "333442     T_0  test_2021-03-01 02:30:02.237431        s_0      ct_1   \n",
       "335279     T_0  test_2021-03-01 02:30:02.237430        s_0      ct_0   \n",
       "\n",
       "        quantity_sold  \n",
       "1431                3  \n",
       "2365                1  \n",
       "2895                9  \n",
       "5955                3  \n",
       "7283                2  \n",
       "...               ...  \n",
       "332594              2  \n",
       "332705              4  \n",
       "332730              1  \n",
       "333442              4  \n",
       "335279              8  \n",
       "\n",
       "[200 rows x 5 columns]"
      ]
     },
     "execution_count": 11,
     "metadata": {},
     "output_type": "execute_result"
    }
   ],
   "source": [
    "## check the data type for each column\n",
    "\n",
    "clients_schema = {\n",
    "    'client_id': str,\n",
    "    'sex': str,\n",
    "    'birth': int\n",
    "}\n",
    "\n",
    "produits_schema = {\n",
    "    'product_id': str,\n",
    "    'category': str,\n",
    "    'sub_category': str,\n",
    "    'price': float,\n",
    "    'stock_quantity': int\n",
    "}\n",
    "\n",
    "ventes_schema = {\n",
    "    'id_prod': str,\n",
    "    'date': 'datetime64',\n",
    "    'session_id': str,\n",
    "    'client_id': str,\n",
    "    'quantity_sold': int\n",
    "}\n",
    "\n",
    "# Fonction de validation\n",
    "def validate_schema(df, schema, df_name):\n",
    "    for column, expected_type in schema.items():\n",
    "        if column not in df.columns:\n",
    "            print(f\"Error: Column '{column}' is missing in {df_name}.\")\n",
    "            continue\n",
    "        \n",
    "        actual_dtype = df[column].dtype\n",
    "        \n",
    "        # Mapping Python types to pandas/numpy dtypes\n",
    "        if expected_type == int:\n",
    "            if not pd.api.types.is_integer_dtype(actual_dtype):\n",
    "                print(f\"Type error for column '{column}' in {df_name}. Expected integer type, found {actual_dtype}.\")\n",
    "        elif expected_type == float:\n",
    "            if not pd.api.types.is_float_dtype(actual_dtype):\n",
    "                print(f\"Type error for column '{column}' in {df_name}. Expected float type, found {actual_dtype}.\")\n",
    "        elif expected_type == str:\n",
    "            if not pd.api.types.is_string_dtype(actual_dtype):\n",
    "                print(f\"Type error for column '{column}' in {df_name}. Expected string type, found {actual_dtype}.\")\n",
    "        elif expected_type == 'datetime64':\n",
    "            if not pd.api.types.is_datetime64_any_dtype(actual_dtype):\n",
    "                print(f\"Error converting column '{column}' to datetime in {df_name}. Found type: {actual_dtype}.\")\n",
    "        else:\n",
    "            print(f\"Unknown expected type '{expected_type}' for column '{column}' in {df_name}.\")\n",
    "\n",
    "# Valider chaque DataFrame\n",
    "validate_schema(df_clients, clients_schema, 'clients_df')\n",
    "validate_schema(df_produits_sous_categorie, produits_schema, 'produits_df')\n",
    "validate_schema(df_vente, ventes_schema, 'ventes_df')\n",
    "\n",
    "\n",
    "def check_invalid_dates(df, column):\n",
    "    invalid_dates = pd.to_datetime(df[column], errors='coerce')\n",
    "    invalid_rows = df[invalid_dates.isna() & df[column].notna()]\n",
    "    return invalid_rows\n",
    "invalid_date_rows = check_invalid_dates(df_vente, 'date')\n",
    "invalid_date_rows"
   ]
  },
  {
   "cell_type": "code",
   "execution_count": 12,
   "metadata": {},
   "outputs": [
    {
     "data": {
      "text/plain": [
       "array(['T_0'], dtype=object)"
      ]
     },
     "execution_count": 12,
     "metadata": {},
     "output_type": "execute_result"
    }
   ],
   "source": [
    "## get the id_prod for the seels which have errors in the date type\n",
    "invalid_date_rows['id_prod'].unique()"
   ]
  },
  {
   "cell_type": "markdown",
   "metadata": {},
   "source": [
    "## Check for the outlier and incorrect values"
   ]
  },
  {
   "cell_type": "code",
   "execution_count": 13,
   "metadata": {},
   "outputs": [
    {
     "data": {
      "text/html": [
       "<div>\n",
       "<style scoped>\n",
       "    .dataframe tbody tr th:only-of-type {\n",
       "        vertical-align: middle;\n",
       "    }\n",
       "\n",
       "    .dataframe tbody tr th {\n",
       "        vertical-align: top;\n",
       "    }\n",
       "\n",
       "    .dataframe thead th {\n",
       "        text-align: right;\n",
       "    }\n",
       "</style>\n",
       "<table border=\"1\" class=\"dataframe\">\n",
       "  <thead>\n",
       "    <tr style=\"text-align: right;\">\n",
       "      <th></th>\n",
       "      <th>id_prod</th>\n",
       "      <th>date</th>\n",
       "      <th>session_id</th>\n",
       "      <th>client_id</th>\n",
       "      <th>quantity_sold</th>\n",
       "    </tr>\n",
       "  </thead>\n",
       "  <tbody>\n",
       "    <tr>\n",
       "      <th>1431</th>\n",
       "      <td>T_0</td>\n",
       "      <td>test_2021-03-01 02:30:02.237420</td>\n",
       "      <td>s_0</td>\n",
       "      <td>ct_1</td>\n",
       "      <td>3</td>\n",
       "    </tr>\n",
       "    <tr>\n",
       "      <th>2365</th>\n",
       "      <td>T_0</td>\n",
       "      <td>test_2021-03-01 02:30:02.237446</td>\n",
       "      <td>s_0</td>\n",
       "      <td>ct_1</td>\n",
       "      <td>1</td>\n",
       "    </tr>\n",
       "    <tr>\n",
       "      <th>2895</th>\n",
       "      <td>T_0</td>\n",
       "      <td>test_2021-03-01 02:30:02.237414</td>\n",
       "      <td>s_0</td>\n",
       "      <td>ct_1</td>\n",
       "      <td>9</td>\n",
       "    </tr>\n",
       "    <tr>\n",
       "      <th>5955</th>\n",
       "      <td>T_0</td>\n",
       "      <td>test_2021-03-01 02:30:02.237441</td>\n",
       "      <td>s_0</td>\n",
       "      <td>ct_0</td>\n",
       "      <td>3</td>\n",
       "    </tr>\n",
       "    <tr>\n",
       "      <th>7283</th>\n",
       "      <td>T_0</td>\n",
       "      <td>test_2021-03-01 02:30:02.237434</td>\n",
       "      <td>s_0</td>\n",
       "      <td>ct_1</td>\n",
       "      <td>2</td>\n",
       "    </tr>\n",
       "    <tr>\n",
       "      <th>...</th>\n",
       "      <td>...</td>\n",
       "      <td>...</td>\n",
       "      <td>...</td>\n",
       "      <td>...</td>\n",
       "      <td>...</td>\n",
       "    </tr>\n",
       "    <tr>\n",
       "      <th>332594</th>\n",
       "      <td>T_0</td>\n",
       "      <td>test_2021-03-01 02:30:02.237445</td>\n",
       "      <td>s_0</td>\n",
       "      <td>ct_0</td>\n",
       "      <td>2</td>\n",
       "    </tr>\n",
       "    <tr>\n",
       "      <th>332705</th>\n",
       "      <td>T_0</td>\n",
       "      <td>test_2021-03-01 02:30:02.237423</td>\n",
       "      <td>s_0</td>\n",
       "      <td>ct_1</td>\n",
       "      <td>4</td>\n",
       "    </tr>\n",
       "    <tr>\n",
       "      <th>332730</th>\n",
       "      <td>T_0</td>\n",
       "      <td>test_2021-03-01 02:30:02.237421</td>\n",
       "      <td>s_0</td>\n",
       "      <td>ct_1</td>\n",
       "      <td>1</td>\n",
       "    </tr>\n",
       "    <tr>\n",
       "      <th>333442</th>\n",
       "      <td>T_0</td>\n",
       "      <td>test_2021-03-01 02:30:02.237431</td>\n",
       "      <td>s_0</td>\n",
       "      <td>ct_1</td>\n",
       "      <td>4</td>\n",
       "    </tr>\n",
       "    <tr>\n",
       "      <th>335279</th>\n",
       "      <td>T_0</td>\n",
       "      <td>test_2021-03-01 02:30:02.237430</td>\n",
       "      <td>s_0</td>\n",
       "      <td>ct_0</td>\n",
       "      <td>8</td>\n",
       "    </tr>\n",
       "  </tbody>\n",
       "</table>\n",
       "<p>200 rows × 5 columns</p>\n",
       "</div>"
      ],
      "text/plain": [
       "       id_prod                             date session_id client_id  \\\n",
       "1431       T_0  test_2021-03-01 02:30:02.237420        s_0      ct_1   \n",
       "2365       T_0  test_2021-03-01 02:30:02.237446        s_0      ct_1   \n",
       "2895       T_0  test_2021-03-01 02:30:02.237414        s_0      ct_1   \n",
       "5955       T_0  test_2021-03-01 02:30:02.237441        s_0      ct_0   \n",
       "7283       T_0  test_2021-03-01 02:30:02.237434        s_0      ct_1   \n",
       "...        ...                              ...        ...       ...   \n",
       "332594     T_0  test_2021-03-01 02:30:02.237445        s_0      ct_0   \n",
       "332705     T_0  test_2021-03-01 02:30:02.237423        s_0      ct_1   \n",
       "332730     T_0  test_2021-03-01 02:30:02.237421        s_0      ct_1   \n",
       "333442     T_0  test_2021-03-01 02:30:02.237431        s_0      ct_1   \n",
       "335279     T_0  test_2021-03-01 02:30:02.237430        s_0      ct_0   \n",
       "\n",
       "        quantity_sold  \n",
       "1431                3  \n",
       "2365                1  \n",
       "2895                9  \n",
       "5955                3  \n",
       "7283                2  \n",
       "...               ...  \n",
       "332594              2  \n",
       "332705              4  \n",
       "332730              1  \n",
       "333442              4  \n",
       "335279              8  \n",
       "\n",
       "[200 rows x 5 columns]"
      ]
     },
     "execution_count": 13,
     "metadata": {},
     "output_type": "execute_result"
    }
   ],
   "source": [
    "## check the client id to find the outlier values \n",
    "invalid_client_ids = df_vente[~df_vente['client_id'].str.startswith('c_', na=False)]\n",
    "invalid_client_ids\n"
   ]
  },
  {
   "cell_type": "code",
   "execution_count": 14,
   "metadata": {},
   "outputs": [
    {
     "data": {
      "text/plain": [
       "array(['ct_1', 'ct_0'], dtype=object)"
      ]
     },
     "execution_count": 14,
     "metadata": {},
     "output_type": "execute_result"
    }
   ],
   "source": [
    "invalid_date_rows[\"client_id\"].unique()\n"
   ]
  },
  {
   "cell_type": "code",
   "execution_count": 15,
   "metadata": {},
   "outputs": [
    {
     "data": {
      "text/html": [
       "<div>\n",
       "<style scoped>\n",
       "    .dataframe tbody tr th:only-of-type {\n",
       "        vertical-align: middle;\n",
       "    }\n",
       "\n",
       "    .dataframe tbody tr th {\n",
       "        vertical-align: top;\n",
       "    }\n",
       "\n",
       "    .dataframe thead th {\n",
       "        text-align: right;\n",
       "    }\n",
       "</style>\n",
       "<table border=\"1\" class=\"dataframe\">\n",
       "  <thead>\n",
       "    <tr style=\"text-align: right;\">\n",
       "      <th></th>\n",
       "      <th>id_prod</th>\n",
       "      <th>date</th>\n",
       "      <th>session_id</th>\n",
       "      <th>client_id</th>\n",
       "      <th>quantity_sold</th>\n",
       "    </tr>\n",
       "  </thead>\n",
       "  <tbody>\n",
       "  </tbody>\n",
       "</table>\n",
       "</div>"
      ],
      "text/plain": [
       "Empty DataFrame\n",
       "Columns: [id_prod, date, session_id, client_id, quantity_sold]\n",
       "Index: []"
      ]
     },
     "execution_count": 15,
     "metadata": {},
     "output_type": "execute_result"
    }
   ],
   "source": [
    "## check the client id to find the outlier values \n",
    "invalid_session_id = df_vente[~df_vente['session_id'].str.startswith('s_', na=False)]\n",
    "invalid_session_id\n"
   ]
  },
  {
   "cell_type": "code",
   "execution_count": 16,
   "metadata": {},
   "outputs": [
    {
     "data": {
      "text/html": [
       "<div>\n",
       "<style scoped>\n",
       "    .dataframe tbody tr th:only-of-type {\n",
       "        vertical-align: middle;\n",
       "    }\n",
       "\n",
       "    .dataframe tbody tr th {\n",
       "        vertical-align: top;\n",
       "    }\n",
       "\n",
       "    .dataframe thead th {\n",
       "        text-align: right;\n",
       "    }\n",
       "</style>\n",
       "<table border=\"1\" class=\"dataframe\">\n",
       "  <thead>\n",
       "    <tr style=\"text-align: right;\">\n",
       "      <th></th>\n",
       "      <th>id_prod</th>\n",
       "      <th>date</th>\n",
       "      <th>session_id</th>\n",
       "      <th>client_id</th>\n",
       "      <th>quantity_sold</th>\n",
       "    </tr>\n",
       "  </thead>\n",
       "  <tbody>\n",
       "    <tr>\n",
       "      <th>1431</th>\n",
       "      <td>T_0</td>\n",
       "      <td>test_2021-03-01 02:30:02.237420</td>\n",
       "      <td>s_0</td>\n",
       "      <td>ct_1</td>\n",
       "      <td>3</td>\n",
       "    </tr>\n",
       "    <tr>\n",
       "      <th>2365</th>\n",
       "      <td>T_0</td>\n",
       "      <td>test_2021-03-01 02:30:02.237446</td>\n",
       "      <td>s_0</td>\n",
       "      <td>ct_1</td>\n",
       "      <td>1</td>\n",
       "    </tr>\n",
       "    <tr>\n",
       "      <th>2895</th>\n",
       "      <td>T_0</td>\n",
       "      <td>test_2021-03-01 02:30:02.237414</td>\n",
       "      <td>s_0</td>\n",
       "      <td>ct_1</td>\n",
       "      <td>9</td>\n",
       "    </tr>\n",
       "    <tr>\n",
       "      <th>5955</th>\n",
       "      <td>T_0</td>\n",
       "      <td>test_2021-03-01 02:30:02.237441</td>\n",
       "      <td>s_0</td>\n",
       "      <td>ct_0</td>\n",
       "      <td>3</td>\n",
       "    </tr>\n",
       "    <tr>\n",
       "      <th>7283</th>\n",
       "      <td>T_0</td>\n",
       "      <td>test_2021-03-01 02:30:02.237434</td>\n",
       "      <td>s_0</td>\n",
       "      <td>ct_1</td>\n",
       "      <td>2</td>\n",
       "    </tr>\n",
       "    <tr>\n",
       "      <th>...</th>\n",
       "      <td>...</td>\n",
       "      <td>...</td>\n",
       "      <td>...</td>\n",
       "      <td>...</td>\n",
       "      <td>...</td>\n",
       "    </tr>\n",
       "    <tr>\n",
       "      <th>332594</th>\n",
       "      <td>T_0</td>\n",
       "      <td>test_2021-03-01 02:30:02.237445</td>\n",
       "      <td>s_0</td>\n",
       "      <td>ct_0</td>\n",
       "      <td>2</td>\n",
       "    </tr>\n",
       "    <tr>\n",
       "      <th>332705</th>\n",
       "      <td>T_0</td>\n",
       "      <td>test_2021-03-01 02:30:02.237423</td>\n",
       "      <td>s_0</td>\n",
       "      <td>ct_1</td>\n",
       "      <td>4</td>\n",
       "    </tr>\n",
       "    <tr>\n",
       "      <th>332730</th>\n",
       "      <td>T_0</td>\n",
       "      <td>test_2021-03-01 02:30:02.237421</td>\n",
       "      <td>s_0</td>\n",
       "      <td>ct_1</td>\n",
       "      <td>1</td>\n",
       "    </tr>\n",
       "    <tr>\n",
       "      <th>333442</th>\n",
       "      <td>T_0</td>\n",
       "      <td>test_2021-03-01 02:30:02.237431</td>\n",
       "      <td>s_0</td>\n",
       "      <td>ct_1</td>\n",
       "      <td>4</td>\n",
       "    </tr>\n",
       "    <tr>\n",
       "      <th>335279</th>\n",
       "      <td>T_0</td>\n",
       "      <td>test_2021-03-01 02:30:02.237430</td>\n",
       "      <td>s_0</td>\n",
       "      <td>ct_0</td>\n",
       "      <td>8</td>\n",
       "    </tr>\n",
       "  </tbody>\n",
       "</table>\n",
       "<p>200 rows × 5 columns</p>\n",
       "</div>"
      ],
      "text/plain": [
       "       id_prod                             date session_id client_id  \\\n",
       "1431       T_0  test_2021-03-01 02:30:02.237420        s_0      ct_1   \n",
       "2365       T_0  test_2021-03-01 02:30:02.237446        s_0      ct_1   \n",
       "2895       T_0  test_2021-03-01 02:30:02.237414        s_0      ct_1   \n",
       "5955       T_0  test_2021-03-01 02:30:02.237441        s_0      ct_0   \n",
       "7283       T_0  test_2021-03-01 02:30:02.237434        s_0      ct_1   \n",
       "...        ...                              ...        ...       ...   \n",
       "332594     T_0  test_2021-03-01 02:30:02.237445        s_0      ct_0   \n",
       "332705     T_0  test_2021-03-01 02:30:02.237423        s_0      ct_1   \n",
       "332730     T_0  test_2021-03-01 02:30:02.237421        s_0      ct_1   \n",
       "333442     T_0  test_2021-03-01 02:30:02.237431        s_0      ct_1   \n",
       "335279     T_0  test_2021-03-01 02:30:02.237430        s_0      ct_0   \n",
       "\n",
       "        quantity_sold  \n",
       "1431                3  \n",
       "2365                1  \n",
       "2895                9  \n",
       "5955                3  \n",
       "7283                2  \n",
       "...               ...  \n",
       "332594              2  \n",
       "332705              4  \n",
       "332730              1  \n",
       "333442              4  \n",
       "335279              8  \n",
       "\n",
       "[200 rows x 5 columns]"
      ]
     },
     "execution_count": 16,
     "metadata": {},
     "output_type": "execute_result"
    }
   ],
   "source": [
    "## check the product id to find the outlier values \n",
    "invalid_client_ids = df_vente[~df_vente['id_prod'].str.startswith(('0', '1', '2'), na=False)]\n",
    "invalid_client_ids\n"
   ]
  },
  {
   "cell_type": "code",
   "execution_count": 17,
   "metadata": {},
   "outputs": [
    {
     "name": "stdout",
     "output_type": "stream",
     "text": [
      "Produits invalides trouvés dans ventes_df:\n",
      "       id_prod                        date session_id client_id  quantity_sold\n",
      "6235    0_2245  2021-06-17 03:03:12.668129    s_49705    c_1533             10\n",
      "10802   0_2245  2021-06-16 05:53:01.627491    s_49323    c_7954              2\n",
      "14051   0_2245  2021-11-24 17:35:59.911427   s_124474    c_5120              5\n",
      "17486   0_2245  2022-02-28 18:08:49.875709   s_172304    c_4964              7\n",
      "21078   0_2245  2021-03-01 00:09:29.301897        s_3     c_580             10\n",
      "...        ...                         ...        ...       ...            ...\n",
      "322710  0_2245  2021-04-06 19:59:19.462288    s_16936    c_4167              8\n",
      "329417  0_2245  2021-03-30 23:29:02.347672    s_13738    c_7790              5\n",
      "330490  0_2245  2021-12-03 14:14:40.444177   s_128815    c_6189              2\n",
      "335531  0_2245  2021-04-27 18:58:47.703374    s_26624    c_1595              2\n",
      "336220  0_2245  2021-05-01 03:35:03.146305    s_28235    c_5714              5\n",
      "\n",
      "[103 rows x 5 columns]\n"
     ]
    }
   ],
   "source": [
    "# Vérifier les client_id\n",
    "invalid_clients = df_vente[~df_vente['client_id'].isin(df_clients['client_id'])]\n",
    "if not invalid_clients.empty:\n",
    "    print(\"Clients invalides trouvés dans ventes_df:\")\n",
    "    print(invalid_clients)\n",
    "\n",
    "# Vérifier les product_id\n",
    "invalid_products = df_vente[~df_vente['id_prod'].isin(df_produits_sous_categorie['product_id'])]\n",
    "if not invalid_products.empty:\n",
    "    print(\"Produits invalides trouvés dans ventes_df:\")\n",
    "    print(invalid_products)\n"
   ]
  },
  {
   "cell_type": "code",
   "execution_count": 18,
   "metadata": {},
   "outputs": [
    {
     "data": {
      "text/plain": [
       "array(['0_2245'], dtype=object)"
      ]
     },
     "execution_count": 18,
     "metadata": {},
     "output_type": "execute_result"
    }
   ],
   "source": [
    "invalid_products['id_prod'].unique()"
   ]
  },
  {
   "cell_type": "code",
   "execution_count": 19,
   "metadata": {},
   "outputs": [
    {
     "name": "stdout",
     "output_type": "stream",
     "text": [
      "Invalid birth years found:\n",
      "     client_id sex  birth\n",
      "8494      ct_1   m  -2001\n"
     ]
    }
   ],
   "source": [
    "\n",
    "import datetime\n",
    "\n",
    "current_year = datetime.datetime.now().year\n",
    "invalid_birth_years = df_clients[(df_clients['birth'] < 1900) | (df_clients['birth'] > current_year)]\n",
    "if not invalid_birth_years.empty:\n",
    "    print(\"Invalid birth years found:\")\n",
    "    print(invalid_birth_years)\n",
    "    # Example handling: Remove invalid entries\n",
    "    clients_df = df_clients[(df_clients['birth'] >= 1900) & (df_clients['birth'] <= current_year)]\n"
   ]
  },
  {
   "cell_type": "code",
   "execution_count": 20,
   "metadata": {},
   "outputs": [
    {
     "name": "stdout",
     "output_type": "stream",
     "text": [
      "Invalid prices found:\n",
      "    product_id   category sub_category  price  stock_quantity\n",
      "731        T_0  Vêtements     T-shirts   -1.0              89\n"
     ]
    }
   ],
   "source": [
    "# Prices\n",
    "invalid_prices = df_produits_sous_categorie[df_produits_sous_categorie['price'] < 0]\n",
    "if not invalid_prices.empty:\n",
    "    print(\"Invalid prices found:\")\n",
    "    print(invalid_prices)\n",
    "\n",
    "\n",
    "# Stock quantities\n",
    "invalid_stock = df_produits_sous_categorie[df_produits_sous_categorie['stock_quantity'] < 0]\n",
    "if not invalid_stock.empty:\n",
    "    print(\"Invalid stock quantities found:\")\n",
    "    print(invalid_stock)\n",
    "\n",
    "\n",
    "# Sold quantities\n",
    "invalid_quantity_sold = df_vente[df_vente['quantity_sold'] < 0]\n",
    "if not invalid_quantity_sold.empty:\n",
    "    print(\"Invalid sold quantities found:\")\n",
    "    print(invalid_quantity_sold)\n",
    "    # Example handling: Set negative sold quantities to zero\n",
    "    df_vente.loc[df_vente['quantity_sold'] < 0, 'quantity_sold'] = 0\n"
   ]
  },
  {
   "cell_type": "markdown",
   "metadata": {},
   "source": [
    "## Using plotbox to select the outliers\n"
   ]
  },
  {
   "cell_type": "code",
   "execution_count": 21,
   "metadata": {},
   "outputs": [
    {
     "data": {
      "image/png": "[encoded data removed]",
      "text/plain": [
       "<Figure size 1000x600 with 1 Axes>"
      ]
     },
     "metadata": {},
     "output_type": "display_data"
    }
   ],
   "source": [
    "import matplotlib.pyplot as plt\n",
    "\n",
    "plt.figure(figsize=(10, 6))\n",
    "plt.boxplot(df_vente['quantity_sold'])\n",
    "plt.title('Box Plot for Quantity Sold')\n",
    "plt.ylabel('Quantity Sold')\n",
    "plt.show()\n",
    "\n"
   ]
  },
  {
   "cell_type": "code",
   "execution_count": 22,
   "metadata": {},
   "outputs": [
    {
     "data": {
      "image/png": "[encoded data removed]",
      "text/plain": [
       "<Figure size 1000x600 with 1 Axes>"
      ]
     },
     "metadata": {},
     "output_type": "display_data"
    }
   ],
   "source": [
    "\n",
    "plt.figure(figsize=(10, 6))\n",
    "\n",
    "plt.boxplot([df_produits_sous_categorie['price'], df_produits_sous_categorie['stock_quantity']])\n",
    "\n",
    "plt.title('Box Plot for Price and Stock Quantity')\n",
    "plt.xticks([1, 2], ['Price', 'Stock Quantity'])  # Set x-axis labels for each box plot\n",
    "plt.ylabel('Values')\n",
    "\n",
    "# Show the plot\n",
    "plt.show()\n"
   ]
  },
  {
   "cell_type": "code",
   "execution_count": 23,
   "metadata": {},
   "outputs": [
    {
     "data": {
      "image/png": "[encoded data removed]",
      "text/plain": [
       "<Figure size 1000x600 with 1 Axes>"
      ]
     },
     "metadata": {},
     "output_type": "display_data"
    }
   ],
   "source": [
    "plt.figure(figsize=(10, 6))\n",
    "plt.boxplot(df_clients['birth'])\n",
    "plt.title('Box Plot for birth')\n",
    "plt.ylabel('Birth Year')\n",
    "plt.show()\n"
   ]
  },
  {
   "cell_type": "code",
   "execution_count": null,
   "metadata": {},
   "outputs": [],
   "source": []
  },
  {
   "cell_type": "markdown",
   "metadata": {},
   "source": [
    "## Data Cleaning\n",
    "#### We will clean the data as follows:\n",
    "\n",
    "\n",
    "1- Removing test data: We will remove all test data from every DataFrame. In the ventes DataFrame, we will remove all transactions related to the product with product_id \"T_0\", and also remove this product from the product table. Additionally, we will remove the clients with IDs ct_1 and ct_0 from the client data.\n",
    "\n",
    "2- Client data correction: In the client DataFrame, we will fix the record where we have negative birth year:\n",
    "\n",
    "        client_id  sex  birth\n",
    "        8494      ct_1   m   -2001\n",
    "        \n",
    "        this is will removed when deleting testing data  \n",
    "\n",
    "\n",
    "3- Product price correction: We will also correct the price for the product which has anegativeprice :\n",
    "\n",
    "        product_id   category    sub_category  price  stock_quantity\n",
    "        731        T_0  Clothing     T-shirts   -1.0              89\n",
    "\n",
    "        this is will removed when deleting testing data \n",
    "\n",
    "\n",
    "4- Adding missing product: We will add the missing product with product_id \"0_2245\", and set its stock and price to the average of other products in the same category."
   ]
  },
  {
   "cell_type": "markdown",
   "metadata": {},
   "source": [
    "#### Removing test data:"
   ]
  },
  {
   "cell_type": "code",
   "execution_count": 24,
   "metadata": {},
   "outputs": [],
   "source": [
    "df_clients_clean=df_clients[~df_clients['client_id'].isin(['ct_1', 'ct_0'])]\n",
    "df_produits_sous_categorie_clear = df_produits_sous_categorie[df_produits_sous_categorie['product_id'] != 'T_0']\n",
    "df_vente_clean=df_vente[df_vente['id_prod']!=\"T_0\"]\n"
   ]
  },
  {
   "cell_type": "code",
   "execution_count": 25,
   "metadata": {},
   "outputs": [
    {
     "name": "stdout",
     "output_type": "stream",
     "text": [
      "Empty DataFrame\n",
      "Columns: [client_id, sex, birth]\n",
      "Index: []\n",
      "Empty DataFrame\n",
      "Columns: [product_id, category, sub_category, price, stock_quantity]\n",
      "Index: []\n",
      "Empty DataFrame\n",
      "Columns: [id_prod, date, session_id, client_id, quantity_sold]\n",
      "Index: []\n"
     ]
    }
   ],
   "source": [
    "## verify that we removed all the testing data \n",
    "print(df_clients_clean[df_clients_clean['client_id'] == 'ct_1'])\n",
    "print(df_produits_sous_categorie_clear[df_produits_sous_categorie_clear['product_id'] == 'T_0'])\n",
    "print(df_vente_clean[df_vente_clean['id_prod'] == 'T_0'])\n",
    "\n"
   ]
  },
  {
   "cell_type": "markdown",
   "metadata": {},
   "source": [
    "#### Adding the missing product which has the id 0_2245 to the products data frame\n",
    "\n",
    "###### Note: The product category is \"Vêtements\" because the product_id starts with '0'. \n",
    "###### We will calculate the average price and stock for all products in the \"Vêtements\" category.\n",
    "###### This method ensures consistency by setting the missing price and stock to the average of similar products.\n",
    "###### Using the category average helps to handle missing or incorrect values without introducing biases.\n",
    "###### It ensures a more realistic estimate for the missing product details.\n",
    "###### By doing so, we maintain data quality and avoid outliers impacting our analysis."
   ]
  },
  {
   "cell_type": "code",
   "execution_count": 26,
   "metadata": {},
   "outputs": [],
   "source": [
    "vetements_products = df_produits_sous_categorie_clear[df_produits_sous_categorie_clear['category'] == 'Vêtements']\n",
    "avg_price_vetements = vetements_products['price'].mean()\n",
    "avg_stock_vetements = int(vetements_products['stock_quantity'].mean())\n",
    "\n",
    "new_product = pd.DataFrame({\n",
    "    'product_id': ['0_2245'],\n",
    "    'category': ['Vêtements'],\n",
    "    'sub_category': ['Unknown'],  \n",
    "    'price': [avg_price_vetements],\n",
    "    'stock_quantity': [avg_stock_vetements]\n",
    "})\n",
    "df_produits_sous_categorie_clear=pd.concat([df_produits_sous_categorie_clear,new_product], ignore_index=True)\n"
   ]
  },
  {
   "cell_type": "code",
   "execution_count": 27,
   "metadata": {},
   "outputs": [
    {
     "name": "stdout",
     "output_type": "stream",
     "text": [
      "     product_id   category sub_category      price  stock_quantity\n",
      "3286     0_2245  Vêtements      Unknown  11.732795              50\n"
     ]
    }
   ],
   "source": [
    "# Verify the addition\n",
    "print(df_produits_sous_categorie_clear[df_produits_sous_categorie_clear['product_id'] == '0_2245'])"
   ]
  },
  {
   "cell_type": "markdown",
   "metadata": {},
   "source": [
    "## Adding new columns"
   ]
  },
  {
   "cell_type": "markdown",
   "metadata": {},
   "source": [
    "#### 1. Adding new columns for client data frame"
   ]
  },
  {
   "cell_type": "code",
   "execution_count": 28,
   "metadata": {},
   "outputs": [
    {
     "name": "stderr",
     "output_type": "stream",
     "text": [
      "C:\\Users\\HP\\AppData\\Local\\Temp\\ipykernel_75628\\1056825088.py:5: SettingWithCopyWarning: \n",
      "A value is trying to be set on a copy of a slice from a DataFrame.\n",
      "Try using .loc[row_indexer,col_indexer] = value instead\n",
      "\n",
      "See the caveats in the documentation: https://pandas.pydata.org/pandas-docs/stable/user_guide/indexing.html#returning-a-view-versus-a-copy\n",
      "  df_clients_clean.loc[:, 'age'] = current_year - df_clients_clean['birth']\n"
     ]
    }
   ],
   "source": [
    "## Adding the Age of the client\n",
    "from datetime import datetime\n",
    "\n",
    "current_year = datetime.now().year\n",
    "df_clients_clean.loc[:, 'age'] = current_year - df_clients_clean['birth']\n"
   ]
  },
  {
   "cell_type": "code",
   "execution_count": 29,
   "metadata": {},
   "outputs": [
    {
     "name": "stderr",
     "output_type": "stream",
     "text": [
      "C:\\Users\\HP\\AppData\\Local\\Temp\\ipykernel_75628\\1693673306.py:12: SettingWithCopyWarning: \n",
      "A value is trying to be set on a copy of a slice from a DataFrame.\n",
      "Try using .loc[row_indexer,col_indexer] = value instead\n",
      "\n",
      "See the caveats in the documentation: https://pandas.pydata.org/pandas-docs/stable/user_guide/indexing.html#returning-a-view-versus-a-copy\n",
      "  df_clients_clean.loc[:, 'age_group'] = df_clients_clean['age'].apply(age_group)\n"
     ]
    }
   ],
   "source": [
    "## Client Segmentation by Age Group\n",
    "def age_group(age):\n",
    "    if age < 20:\n",
    "        return 'Teen'\n",
    "    elif age < 36:\n",
    "        return 'Young Adult'\n",
    "    elif age < 61:\n",
    "        return 'Adult'\n",
    "    else:\n",
    "        return 'Senior'\n",
    "\n",
    "df_clients_clean.loc[:, 'age_group'] = df_clients_clean['age'].apply(age_group)\n"
   ]
  },
  {
   "cell_type": "markdown",
   "metadata": {},
   "source": [
    "#### 2. Adding new columns for ventes data frame\n"
   ]
  },
  {
   "cell_type": "code",
   "execution_count": 30,
   "metadata": {},
   "outputs": [
    {
     "name": "stderr",
     "output_type": "stream",
     "text": [
      "C:\\Users\\HP\\AppData\\Local\\Temp\\ipykernel_75628\\2185993274.py:1: SettingWithCopyWarning: \n",
      "A value is trying to be set on a copy of a slice from a DataFrame.\n",
      "Try using .loc[row_indexer,col_indexer] = value instead\n",
      "\n",
      "See the caveats in the documentation: https://pandas.pydata.org/pandas-docs/stable/user_guide/indexing.html#returning-a-view-versus-a-copy\n",
      "  df_vente_clean['date'] = pd.to_datetime(df_vente_clean['date'])\n"
     ]
    }
   ],
   "source": [
    "df_vente_clean['date'] = pd.to_datetime(df_vente_clean['date'])\n"
   ]
  },
  {
   "cell_type": "code",
   "execution_count": 31,
   "metadata": {},
   "outputs": [
    {
     "name": "stderr",
     "output_type": "stream",
     "text": [
      "C:\\Users\\HP\\AppData\\Local\\Temp\\ipykernel_75628\\3286926987.py:1: SettingWithCopyWarning: \n",
      "A value is trying to be set on a copy of a slice from a DataFrame.\n",
      "Try using .loc[row_indexer,col_indexer] = value instead\n",
      "\n",
      "See the caveats in the documentation: https://pandas.pydata.org/pandas-docs/stable/user_guide/indexing.html#returning-a-view-versus-a-copy\n",
      "  df_vente_clean.loc[:,'transaction_year'] = df_vente_clean['date'].dt.year\n",
      "C:\\Users\\HP\\AppData\\Local\\Temp\\ipykernel_75628\\3286926987.py:2: SettingWithCopyWarning: \n",
      "A value is trying to be set on a copy of a slice from a DataFrame.\n",
      "Try using .loc[row_indexer,col_indexer] = value instead\n",
      "\n",
      "See the caveats in the documentation: https://pandas.pydata.org/pandas-docs/stable/user_guide/indexing.html#returning-a-view-versus-a-copy\n",
      "  df_vente_clean.loc[:,'transaction_month'] = df_vente_clean['date'].dt.month\n",
      "C:\\Users\\HP\\AppData\\Local\\Temp\\ipykernel_75628\\3286926987.py:3: SettingWithCopyWarning: \n",
      "A value is trying to be set on a copy of a slice from a DataFrame.\n",
      "Try using .loc[row_indexer,col_indexer] = value instead\n",
      "\n",
      "See the caveats in the documentation: https://pandas.pydata.org/pandas-docs/stable/user_guide/indexing.html#returning-a-view-versus-a-copy\n",
      "  df_vente_clean.loc[:,'transaction_day'] = df_vente_clean['date'].dt.day\n",
      "C:\\Users\\HP\\AppData\\Local\\Temp\\ipykernel_75628\\3286926987.py:4: SettingWithCopyWarning: \n",
      "A value is trying to be set on a copy of a slice from a DataFrame.\n",
      "Try using .loc[row_indexer,col_indexer] = value instead\n",
      "\n",
      "See the caveats in the documentation: https://pandas.pydata.org/pandas-docs/stable/user_guide/indexing.html#returning-a-view-versus-a-copy\n",
      "  df_vente_clean.loc[:,'transaction_weekday'] = df_vente_clean['date'].dt.day_name()\n",
      "C:\\Users\\HP\\AppData\\Local\\Temp\\ipykernel_75628\\3286926987.py:5: SettingWithCopyWarning: \n",
      "A value is trying to be set on a copy of a slice from a DataFrame.\n",
      "Try using .loc[row_indexer,col_indexer] = value instead\n",
      "\n",
      "See the caveats in the documentation: https://pandas.pydata.org/pandas-docs/stable/user_guide/indexing.html#returning-a-view-versus-a-copy\n",
      "  df_vente_clean.loc[:,'transaction_hour'] = df_vente_clean['date'].dt.hour\n",
      "C:\\Users\\HP\\AppData\\Local\\Temp\\ipykernel_75628\\3286926987.py:16: SettingWithCopyWarning: \n",
      "A value is trying to be set on a copy of a slice from a DataFrame.\n",
      "Try using .loc[row_indexer,col_indexer] = value instead\n",
      "\n",
      "See the caveats in the documentation: https://pandas.pydata.org/pandas-docs/stable/user_guide/indexing.html#returning-a-view-versus-a-copy\n",
      "  df_vente_clean.loc[:,'transaction_period'] = df_vente_clean['transaction_hour'].apply(get_period_of_day)\n"
     ]
    }
   ],
   "source": [
    "df_vente_clean.loc[:,'transaction_year'] = df_vente_clean['date'].dt.year\n",
    "df_vente_clean.loc[:,'transaction_month'] = df_vente_clean['date'].dt.month\n",
    "df_vente_clean.loc[:,'transaction_day'] = df_vente_clean['date'].dt.day\n",
    "df_vente_clean.loc[:,'transaction_weekday'] = df_vente_clean['date'].dt.day_name()  \n",
    "df_vente_clean.loc[:,'transaction_hour'] = df_vente_clean['date'].dt.hour\n",
    "\n",
    "def get_period_of_day(hour):\n",
    "    if 5 <= hour < 12:\n",
    "        return 'Morning'\n",
    "    elif 12 <= hour < 17:\n",
    "        return 'Afternoon'\n",
    "    elif 17 <= hour < 21:\n",
    "        return 'Evening'\n",
    "    else:\n",
    "        return 'Night'\n",
    "df_vente_clean.loc[:,'transaction_period'] = df_vente_clean['transaction_hour'].apply(get_period_of_day)"
   ]
  },
  {
   "cell_type": "markdown",
   "metadata": {},
   "source": [
    "## Save the clean dataframes into new csv files"
   ]
  },
  {
   "cell_type": "code",
   "execution_count": null,
   "metadata": {},
   "outputs": [],
   "source": [
    "df_vente_clean = df_vente_clean.drop(columns=['Unnamed: 0'])\n",
    "df_clients_clean = df_clients_clean.drop(columns=['Unnamed: 0'])\n",
    "df_produits_sous_categorie_clear = df_produits_sous_categorie_clear.drop(columns=['Unnamed: 0'])\n",
    "df_vente_clean = df_vente_clean.rename(columns={'id_prod': 'product_id'})"
   ]
  },
  {
   "cell_type": "code",
   "execution_count": 32,
   "metadata": {},
   "outputs": [],
   "source": [
    "df_vente_clean.to_csv('./Data/DataClean/df_ventes.csv')\n",
    "df_produits_sous_categorie_clear.to_csv('./Data/DataClean/df_produits.csv')\n",
    "df_clients_clean.to_csv('./Data/DataClean/df_clients.csv')"
   ]
  },
  {
   "cell_type": "code",
   "execution_count": 33,
   "metadata": {},
   "outputs": [
    {
     "data": {
      "text/html": [
       "<div>\n",
       "<style scoped>\n",
       "    .dataframe tbody tr th:only-of-type {\n",
       "        vertical-align: middle;\n",
       "    }\n",
       "\n",
       "    .dataframe tbody tr th {\n",
       "        vertical-align: top;\n",
       "    }\n",
       "\n",
       "    .dataframe thead th {\n",
       "        text-align: right;\n",
       "    }\n",
       "</style>\n",
       "<table border=\"1\" class=\"dataframe\">\n",
       "  <thead>\n",
       "    <tr style=\"text-align: right;\">\n",
       "      <th></th>\n",
       "      <th>id_prod</th>\n",
       "      <th>date</th>\n",
       "      <th>session_id</th>\n",
       "      <th>client_id</th>\n",
       "      <th>quantity_sold</th>\n",
       "      <th>transaction_year</th>\n",
       "      <th>transaction_month</th>\n",
       "      <th>transaction_day</th>\n",
       "      <th>transaction_weekday</th>\n",
       "      <th>transaction_hour</th>\n",
       "      <th>transaction_period</th>\n",
       "    </tr>\n",
       "  </thead>\n",
       "  <tbody>\n",
       "    <tr>\n",
       "      <th>0</th>\n",
       "      <td>0_1483</td>\n",
       "      <td>2021-04-10 18:37:28.723910</td>\n",
       "      <td>s_18746</td>\n",
       "      <td>c_4450</td>\n",
       "      <td>5</td>\n",
       "      <td>2021</td>\n",
       "      <td>4</td>\n",
       "      <td>10</td>\n",
       "      <td>Saturday</td>\n",
       "      <td>18</td>\n",
       "      <td>Evening</td>\n",
       "    </tr>\n",
       "    <tr>\n",
       "      <th>1</th>\n",
       "      <td>2_226</td>\n",
       "      <td>2022-02-03 01:55:53.276402</td>\n",
       "      <td>s_159142</td>\n",
       "      <td>c_277</td>\n",
       "      <td>6</td>\n",
       "      <td>2022</td>\n",
       "      <td>2</td>\n",
       "      <td>3</td>\n",
       "      <td>Thursday</td>\n",
       "      <td>1</td>\n",
       "      <td>Night</td>\n",
       "    </tr>\n",
       "    <tr>\n",
       "      <th>2</th>\n",
       "      <td>1_374</td>\n",
       "      <td>2021-09-23 15:13:46.938559</td>\n",
       "      <td>s_94290</td>\n",
       "      <td>c_4270</td>\n",
       "      <td>3</td>\n",
       "      <td>2021</td>\n",
       "      <td>9</td>\n",
       "      <td>23</td>\n",
       "      <td>Thursday</td>\n",
       "      <td>15</td>\n",
       "      <td>Afternoon</td>\n",
       "    </tr>\n",
       "    <tr>\n",
       "      <th>3</th>\n",
       "      <td>0_2186</td>\n",
       "      <td>2021-10-17 03:27:18.783634</td>\n",
       "      <td>s_105936</td>\n",
       "      <td>c_4597</td>\n",
       "      <td>8</td>\n",
       "      <td>2021</td>\n",
       "      <td>10</td>\n",
       "      <td>17</td>\n",
       "      <td>Sunday</td>\n",
       "      <td>3</td>\n",
       "      <td>Night</td>\n",
       "    </tr>\n",
       "    <tr>\n",
       "      <th>4</th>\n",
       "      <td>0_1351</td>\n",
       "      <td>2021-07-17 20:34:25.800563</td>\n",
       "      <td>s_63642</td>\n",
       "      <td>c_1242</td>\n",
       "      <td>2</td>\n",
       "      <td>2021</td>\n",
       "      <td>7</td>\n",
       "      <td>17</td>\n",
       "      <td>Saturday</td>\n",
       "      <td>20</td>\n",
       "      <td>Evening</td>\n",
       "    </tr>\n",
       "    <tr>\n",
       "      <th>...</th>\n",
       "      <td>...</td>\n",
       "      <td>...</td>\n",
       "      <td>...</td>\n",
       "      <td>...</td>\n",
       "      <td>...</td>\n",
       "      <td>...</td>\n",
       "      <td>...</td>\n",
       "      <td>...</td>\n",
       "      <td>...</td>\n",
       "      <td>...</td>\n",
       "      <td>...</td>\n",
       "    </tr>\n",
       "    <tr>\n",
       "      <th>337011</th>\n",
       "      <td>1_671</td>\n",
       "      <td>2021-05-28 12:35:46.214839</td>\n",
       "      <td>s_40720</td>\n",
       "      <td>c_3454</td>\n",
       "      <td>1</td>\n",
       "      <td>2021</td>\n",
       "      <td>5</td>\n",
       "      <td>28</td>\n",
       "      <td>Friday</td>\n",
       "      <td>12</td>\n",
       "      <td>Afternoon</td>\n",
       "    </tr>\n",
       "    <tr>\n",
       "      <th>337012</th>\n",
       "      <td>0_759</td>\n",
       "      <td>2021-06-19 00:19:23.917703</td>\n",
       "      <td>s_50568</td>\n",
       "      <td>c_6268</td>\n",
       "      <td>10</td>\n",
       "      <td>2021</td>\n",
       "      <td>6</td>\n",
       "      <td>19</td>\n",
       "      <td>Saturday</td>\n",
       "      <td>0</td>\n",
       "      <td>Night</td>\n",
       "    </tr>\n",
       "    <tr>\n",
       "      <th>337013</th>\n",
       "      <td>0_1256</td>\n",
       "      <td>2021-03-16 17:31:59.442007</td>\n",
       "      <td>s_7219</td>\n",
       "      <td>c_4137</td>\n",
       "      <td>7</td>\n",
       "      <td>2021</td>\n",
       "      <td>3</td>\n",
       "      <td>16</td>\n",
       "      <td>Tuesday</td>\n",
       "      <td>17</td>\n",
       "      <td>Evening</td>\n",
       "    </tr>\n",
       "    <tr>\n",
       "      <th>337014</th>\n",
       "      <td>2_227</td>\n",
       "      <td>2021-10-30 16:50:15.997750</td>\n",
       "      <td>s_112349</td>\n",
       "      <td>c_5</td>\n",
       "      <td>8</td>\n",
       "      <td>2021</td>\n",
       "      <td>10</td>\n",
       "      <td>30</td>\n",
       "      <td>Saturday</td>\n",
       "      <td>16</td>\n",
       "      <td>Afternoon</td>\n",
       "    </tr>\n",
       "    <tr>\n",
       "      <th>337015</th>\n",
       "      <td>0_1417</td>\n",
       "      <td>2021-06-26 14:38:19.732946</td>\n",
       "      <td>s_54117</td>\n",
       "      <td>c_6714</td>\n",
       "      <td>3</td>\n",
       "      <td>2021</td>\n",
       "      <td>6</td>\n",
       "      <td>26</td>\n",
       "      <td>Saturday</td>\n",
       "      <td>14</td>\n",
       "      <td>Afternoon</td>\n",
       "    </tr>\n",
       "  </tbody>\n",
       "</table>\n",
       "<p>336816 rows × 11 columns</p>\n",
       "</div>"
      ],
      "text/plain": [
       "       id_prod                       date session_id client_id  quantity_sold  \\\n",
       "0       0_1483 2021-04-10 18:37:28.723910    s_18746    c_4450              5   \n",
       "1        2_226 2022-02-03 01:55:53.276402   s_159142     c_277              6   \n",
       "2        1_374 2021-09-23 15:13:46.938559    s_94290    c_4270              3   \n",
       "3       0_2186 2021-10-17 03:27:18.783634   s_105936    c_4597              8   \n",
       "4       0_1351 2021-07-17 20:34:25.800563    s_63642    c_1242              2   \n",
       "...        ...                        ...        ...       ...            ...   \n",
       "337011   1_671 2021-05-28 12:35:46.214839    s_40720    c_3454              1   \n",
       "337012   0_759 2021-06-19 00:19:23.917703    s_50568    c_6268             10   \n",
       "337013  0_1256 2021-03-16 17:31:59.442007     s_7219    c_4137              7   \n",
       "337014   2_227 2021-10-30 16:50:15.997750   s_112349       c_5              8   \n",
       "337015  0_1417 2021-06-26 14:38:19.732946    s_54117    c_6714              3   \n",
       "\n",
       "        transaction_year  transaction_month  transaction_day  \\\n",
       "0                   2021                  4               10   \n",
       "1                   2022                  2                3   \n",
       "2                   2021                  9               23   \n",
       "3                   2021                 10               17   \n",
       "4                   2021                  7               17   \n",
       "...                  ...                ...              ...   \n",
       "337011              2021                  5               28   \n",
       "337012              2021                  6               19   \n",
       "337013              2021                  3               16   \n",
       "337014              2021                 10               30   \n",
       "337015              2021                  6               26   \n",
       "\n",
       "       transaction_weekday  transaction_hour transaction_period  \n",
       "0                 Saturday                18            Evening  \n",
       "1                 Thursday                 1              Night  \n",
       "2                 Thursday                15          Afternoon  \n",
       "3                   Sunday                 3              Night  \n",
       "4                 Saturday                20            Evening  \n",
       "...                    ...               ...                ...  \n",
       "337011              Friday                12          Afternoon  \n",
       "337012            Saturday                 0              Night  \n",
       "337013             Tuesday                17            Evening  \n",
       "337014            Saturday                16          Afternoon  \n",
       "337015            Saturday                14          Afternoon  \n",
       "\n",
       "[336816 rows x 11 columns]"
      ]
     },
     "execution_count": 33,
     "metadata": {},
     "output_type": "execute_result"
    }
   ],
   "source": [
    "df_vente_clean"
   ]
  }
 ],
 "metadata": {
  "kernelspec": {
   "display_name": "Python 3",
   "language": "python",
   "name": "python3"
  },
  "language_info": {
   "codemirror_mode": {
    "name": "ipython",
    "version": 3
   },
   "file_extension": ".py",
   "mimetype": "text/x-python",
   "name": "python",
   "nbconvert_exporter": "python",
   "pygments_lexer": "ipython3",
   "version": "3.12.7"
  }
 },
 "nbformat": 4,
 "nbformat_minor": 2
}
